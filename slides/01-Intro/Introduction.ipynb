{
 "cells": [
  {
   "cell_type": "markdown",
   "metadata": {
    "slideshow": {
     "slide_type": "slide"
    }
   },
   "source": [
    "# General Introduction to Important Python Features\n",
    "\n",
    "### GRK Python Workshop, 14.10.2019\n",
    "\n",
    "### Frank Sauerburger, Manuel Guth\n"
   ]
  },
  {
   "cell_type": "markdown",
   "metadata": {
    "slideshow": {
     "slide_type": "slide"
    }
   },
   "source": [
    "# Overview\n",
    "\n",
    "* [New Features in Python 3](#New-Features-in-Python-3)\n",
    "* [Object Oriented Programming](#Object-Oriented-Programming-(OOP))\n",
    "* [Generators](#Generators)\n",
    "* [Debugger](#Debugger-PDB)\n",
    "* [Linter](#Linter)\n",
    "* [argparse](#Command-line-Options----argparse)\n",
    "* [Packaging](#Packaging)\n",
    "* [What not to do](#What-NOT-to-do)\n",
    "\n"
   ]
  },
  {
   "cell_type": "markdown",
   "metadata": {
    "slideshow": {
     "slide_type": "slide"
    }
   },
   "source": [
    "# New Features in Python 3"
   ]
  },
  {
   "cell_type": "markdown",
   "metadata": {
    "slideshow": {
     "slide_type": "fragment"
    }
   },
   "source": [
    "* For all changes have a look at [What's New in Python](https://docs.python.org/3/whatsnew/index.html)\n",
    "* [Cheat Sheet: Writing Python 2-3 compatible code](http://python-future.org/compatible_idioms.html)"
   ]
  },
  {
   "cell_type": "markdown",
   "metadata": {
    "slideshow": {
     "slide_type": "subslide"
    }
   },
   "source": [
    "# [Sunsetting](https://www.python.org/doc/sunset-python-2/) Python 2\n",
    "\n",
    "* Python 2.0 was released in 2000\n",
    "* Python 3.0 in 2006\n",
    "    * 14 years of parallel support\n",
    "\n",
    "### Support will end on  <a href=\"https://pythonclock.org/\"><font color=\"red\">01.01.2020</font></a> \n",
    "#### What does that mean?\n",
    "* No fixes in case of e.g.\n",
    "    * catastrophic security problems in Python 2\n",
    "    * bugs in software\n",
    "* No (fewer) help concerning problems with Python 2\n",
    "\n",
    "#### In ATLAS python2.7 is still the default"
   ]
  },
  {
   "cell_type": "markdown",
   "metadata": {
    "slideshow": {
     "slide_type": "subslide"
    }
   },
   "source": [
    "## Print Function"
   ]
  },
  {
   "cell_type": "markdown",
   "metadata": {
    "slideshow": {
     "slide_type": "fragment"
    }
   },
   "source": [
    "#### Python 2"
   ]
  },
  {
   "cell_type": "code",
   "execution_count": null,
   "metadata": {},
   "outputs": [],
   "source": [
    "print \"Hello world!\""
   ]
  },
  {
   "cell_type": "markdown",
   "metadata": {},
   "source": [
    "#### Python 3"
   ]
  },
  {
   "cell_type": "code",
   "execution_count": null,
   "metadata": {
    "slideshow": {
     "slide_type": "fragment"
    }
   },
   "outputs": [],
   "source": [
    "print(\"Hello world!\")"
   ]
  },
  {
   "cell_type": "code",
   "execution_count": null,
   "metadata": {
    "slideshow": {
     "slide_type": "fragment"
    }
   },
   "outputs": [],
   "source": [
    "print(\"Hello\", \"world\", sep=\"-\")"
   ]
  },
  {
   "cell_type": "code",
   "execution_count": null,
   "metadata": {
    "slideshow": {
     "slide_type": "fragment"
    }
   },
   "outputs": [],
   "source": [
    "print('home', 'user', 'documents', sep='/')"
   ]
  },
  {
   "cell_type": "code",
   "execution_count": null,
   "metadata": {
    "slideshow": {
     "slide_type": "skip"
    }
   },
   "outputs": [],
   "source": [
    "print('', 'home', 'user', 'documents', sep='/')"
   ]
  },
  {
   "cell_type": "markdown",
   "metadata": {
    "slideshow": {
     "slide_type": "subslide"
    }
   },
   "source": [
    "## Print Function"
   ]
  },
  {
   "cell_type": "code",
   "execution_count": null,
   "metadata": {},
   "outputs": [],
   "source": [
    "print('Mercury', 'Venus', 'Earth', sep=', ', end=\", \")\n",
    "print('Mars', 'Jupiter', 'Saturn', sep=', ', end=', ')\n",
    "print('Uranus', 'Neptune', 'Pluto', sep=', ')"
   ]
  },
  {
   "cell_type": "markdown",
   "metadata": {
    "slideshow": {
     "slide_type": "fragment"
    }
   },
   "source": [
    "### Writing to file"
   ]
  },
  {
   "cell_type": "code",
   "execution_count": null,
   "metadata": {},
   "outputs": [],
   "source": [
    "!cat file.txt"
   ]
  },
  {
   "cell_type": "code",
   "execution_count": null,
   "metadata": {},
   "outputs": [],
   "source": [
    "with open('file.txt', mode='w') as file_object:\n",
    "    print('hello world', file=file_object)"
   ]
  },
  {
   "cell_type": "markdown",
   "metadata": {
    "slideshow": {
     "slide_type": "subslide"
    }
   },
   "source": [
    "## f-Strings"
   ]
  },
  {
   "cell_type": "markdown",
   "metadata": {
    "slideshow": {
     "slide_type": "fragment"
    }
   },
   "source": [
    "#### String formatting before Python 3.6"
   ]
  },
  {
   "cell_type": "code",
   "execution_count": null,
   "metadata": {},
   "outputs": [],
   "source": [
    "import math\n",
    "grk = 2_044\n",
    "where = \"HS1\""
   ]
  },
  {
   "cell_type": "code",
   "execution_count": null,
   "metadata": {
    "slideshow": {
     "slide_type": "fragment"
    }
   },
   "outputs": [],
   "source": [
    "message = \"Welcome to the GRK {} Python workshop in {}!\\nWe can round pi to {:.2f}\".format(grk, where, math.pi)"
   ]
  },
  {
   "cell_type": "code",
   "execution_count": null,
   "metadata": {
    "slideshow": {
     "slide_type": "fragment"
    }
   },
   "outputs": [],
   "source": [
    "print(message)"
   ]
  },
  {
   "cell_type": "markdown",
   "metadata": {
    "slideshow": {
     "slide_type": "fragment"
    }
   },
   "source": [
    "#### String formatting with f-String"
   ]
  },
  {
   "cell_type": "code",
   "execution_count": null,
   "metadata": {
    "slideshow": {
     "slide_type": "-"
    }
   },
   "outputs": [],
   "source": [
    "message_f = f\"Welcome to the GRK {grk} Python workshop in {where}!\\nWe can round pi to {math.pi:.2f}.\""
   ]
  },
  {
   "cell_type": "code",
   "execution_count": null,
   "metadata": {
    "slideshow": {
     "slide_type": "fragment"
    }
   },
   "outputs": [],
   "source": [
    "print(message_f)"
   ]
  },
  {
   "cell_type": "markdown",
   "metadata": {
    "slideshow": {
     "slide_type": "subslide"
    }
   },
   "source": [
    "## True Division"
   ]
  },
  {
   "cell_type": "markdown",
   "metadata": {},
   "source": [
    "#### Python 2"
   ]
  },
  {
   "cell_type": "markdown",
   "metadata": {},
   "source": [
    "3/4 returned 0\n"
   ]
  },
  {
   "cell_type": "markdown",
   "metadata": {
    "slideshow": {
     "slide_type": "fragment"
    }
   },
   "source": [
    "#### Python 3"
   ]
  },
  {
   "cell_type": "code",
   "execution_count": null,
   "metadata": {},
   "outputs": [],
   "source": [
    "3/4"
   ]
  },
  {
   "cell_type": "markdown",
   "metadata": {},
   "source": [
    "In python 3 the operator `/` does not loose fractions"
   ]
  },
  {
   "cell_type": "markdown",
   "metadata": {
    "slideshow": {
     "slide_type": "fragment"
    }
   },
   "source": [
    "Integer division has its own operator"
   ]
  },
  {
   "cell_type": "code",
   "execution_count": null,
   "metadata": {},
   "outputs": [],
   "source": [
    "3//4"
   ]
  },
  {
   "cell_type": "markdown",
   "metadata": {
    "slideshow": {
     "slide_type": "slide"
    }
   },
   "source": [
    "# Object Oriented Programming (OOP)\n",
    "\n",
    " - Cover only basics\n",
    " - Partially needed for the rest of the workshop\n",
    " - No multi-inheritance\n",
    " - Focused on usage"
   ]
  },
  {
   "cell_type": "markdown",
   "metadata": {
    "slideshow": {
     "slide_type": "slide"
    }
   },
   "source": [
    "## What is Object Oriented Programming (OOP)\n",
    "<img style=\"float: right; width: 30%\" src=\"material/oop.svg\" />\n",
    "\n",
    "\n",
    " - You've used it already:\n",
    " \n",
    "     ```python\n",
    "     \"Hello World\".lower()\n",
    "     ```\n",
    "\n",
    "     The string `\"Hello World\"` is an object of `str` class.\n",
    " - Class is a *blueprint* to create instances, called *objects*\n",
    " - Combines data and functions\n",
    " - Example: Particles in an experiment"
   ]
  },
  {
   "cell_type": "code",
   "execution_count": null,
   "metadata": {
    "slideshow": {
     "slide_type": "fragment"
    }
   },
   "outputs": [],
   "source": [
    "class Particle:\n",
    "    def __init__(self, mass, charge):\n",
    "        self.mass = mass\n",
    "        self.charge = charge"
   ]
  },
  {
   "cell_type": "code",
   "execution_count": null,
   "metadata": {
    "slideshow": {
     "slide_type": "fragment"
    }
   },
   "outputs": [],
   "source": [
    "bert = Particle(125, 0)\n",
    "bert.mass"
   ]
  },
  {
   "cell_type": "code",
   "execution_count": null,
   "metadata": {
    "slideshow": {
     "slide_type": "slide"
    }
   },
   "outputs": [],
   "source": [
    "class Particle:\n",
    "    def __init__(self, mass, charge):\n",
    "        # __init__() is called when new object is created.\n",
    "        # First argument (self) is the new object\n",
    "        self.mass = mass\n",
    "        self.charge = charge\n",
    "        \n",
    "    def anti(self):\n",
    "        # First argument is the object on which anti() is called\n",
    "        \n",
    "        # Create new particle with same mass and\n",
    "        # opposite charge\n",
    "        return Particle(self.mass, -self.charge)"
   ]
  },
  {
   "cell_type": "code",
   "execution_count": null,
   "metadata": {
    "slideshow": {
     "slide_type": "-"
    }
   },
   "outputs": [],
   "source": [
    "bert = Particle(1.777, -1)\n",
    "ernie = bert.anti()\n",
    "ernie.charge"
   ]
  },
  {
   "cell_type": "code",
   "execution_count": null,
   "metadata": {
    "slideshow": {
     "slide_type": "-"
    }
   },
   "outputs": [],
   "source": [
    "ernie.mass"
   ]
  },
  {
   "cell_type": "code",
   "execution_count": null,
   "metadata": {
    "slideshow": {
     "slide_type": "-"
    }
   },
   "outputs": [],
   "source": [
    "bert.charge  # Original particle not changed"
   ]
  },
  {
   "cell_type": "code",
   "execution_count": null,
   "metadata": {
    "slideshow": {
     "slide_type": "slide"
    }
   },
   "outputs": [],
   "source": [
    "class Particle:\n",
    "    def __init__(self, mass, charge):\n",
    "        # __init__() is called when new object is created.\n",
    "        # First argument (self) is the new object\n",
    "        self.mass = mass\n",
    "        self.charge = charge\n",
    "        \n",
    "    def anti(self):\n",
    "        # First argument is the object on which anti() is called\n",
    "        \n",
    "        # Create new particle with same mass and\n",
    "        # opposite charge\n",
    "        return Particle(self.mass, -self.charge)\n",
    "        \n",
    "    def flip_charge(self):\n",
    "        # Change the charge of the particle itself (instead of creating a new one)\n",
    "        \n",
    "        self.charge *= -1"
   ]
  },
  {
   "cell_type": "code",
   "execution_count": null,
   "metadata": {},
   "outputs": [],
   "source": [
    "bert = Particle(1.777, -1)\n",
    "bert.charge"
   ]
  },
  {
   "cell_type": "code",
   "execution_count": null,
   "metadata": {},
   "outputs": [],
   "source": [
    "bert.flip_charge()  # Changes the original particle\n",
    "bert.charge"
   ]
  },
  {
   "cell_type": "markdown",
   "metadata": {
    "slideshow": {
     "slide_type": "slide"
    }
   },
   "source": [
    "## Inheritance\n",
    "\n",
    " - Sub-classes extend parent classes\n",
    " - Inheritance models **is a** relationships\n",
    "   - A `Fermion` **is a** `Particle`\n",
    "   - A `Particle` is not necessariliy a `Fermion`\n",
    " - Example: Include sub-classes `Fermion` and `Boson`"
   ]
  },
  {
   "cell_type": "code",
   "execution_count": null,
   "metadata": {
    "slideshow": {
     "slide_type": "fragment"
    }
   },
   "outputs": [],
   "source": [
    "class Boson(Particle):\n",
    "    def interact_with_higgs(self, factor=1.5):\n",
    "        # Bosons can increase their mass by interacting with the Higgs field (NEW PHYSICS!)\n",
    "        self.mass *= factor\n",
    "\n",
    "class Fermion(Particle):\n",
    "    def __init__(self, mass, charge, generation):\n",
    "        super().__init__(mass, charge)  # Create a regular particle\n",
    "        self.generation = generation"
   ]
  },
  {
   "cell_type": "code",
   "execution_count": null,
   "metadata": {
    "slideshow": {
     "slide_type": "slide"
    }
   },
   "outputs": [],
   "source": [
    "tau = Fermion(1.777, -1, 3)\n",
    "tau.generation"
   ]
  },
  {
   "cell_type": "code",
   "execution_count": null,
   "metadata": {},
   "outputs": [],
   "source": [
    "Z = Boson(60.78, 0)\n",
    "Z.mass"
   ]
  },
  {
   "cell_type": "code",
   "execution_count": null,
   "metadata": {},
   "outputs": [],
   "source": [
    "Z.interact_with_higgs()\n",
    "Z.mass"
   ]
  },
  {
   "cell_type": "code",
   "execution_count": null,
   "metadata": {},
   "outputs": [],
   "source": [
    "Z.generation  # Z is a Boson which do not come in generations"
   ]
  },
  {
   "cell_type": "code",
   "execution_count": null,
   "metadata": {},
   "outputs": [],
   "source": [
    "tau.interact_with_higgs()"
   ]
  },
  {
   "cell_type": "markdown",
   "metadata": {
    "slideshow": {
     "slide_type": "slide"
    }
   },
   "source": [
    "## Other interesting things about OOP\n",
    " - Override `__str__` and `__repr__` methods\n",
    " - Override operators: `ernie + bert`\n",
    " - Polymorphism: Implement methods differently in differnet sub-classes\n",
    "   - `Fermion.susy()` returns a Boson\n",
    "   - `Boson.susy()` returns a Fermion"
   ]
  },
  {
   "cell_type": "markdown",
   "metadata": {
    "slideshow": {
     "slide_type": "slide"
    }
   },
   "source": [
    "## Exercise: Implement a 2D Vector\n",
    "\n",
    "Implement a `Vector2D` class such that the following lines work"
   ]
  },
  {
   "cell_type": "code",
   "execution_count": null,
   "metadata": {},
   "outputs": [],
   "source": [
    "from solutions import Vector2D\n",
    "a = Vector2D(4, 3)\n",
    "a.x"
   ]
  },
  {
   "cell_type": "code",
   "execution_count": null,
   "metadata": {},
   "outputs": [],
   "source": [
    "a.y"
   ]
  },
  {
   "cell_type": "code",
   "execution_count": null,
   "metadata": {},
   "outputs": [],
   "source": [
    "a.length()"
   ]
  },
  {
   "cell_type": "code",
   "execution_count": null,
   "metadata": {},
   "outputs": [],
   "source": [
    "a.scale(3)\n",
    "a.length()"
   ]
  },
  {
   "cell_type": "markdown",
   "metadata": {
    "slideshow": {
     "slide_type": "slide"
    }
   },
   "source": [
    "# Generators"
   ]
  },
  {
   "cell_type": "code",
   "execution_count": null,
   "metadata": {},
   "outputs": [],
   "source": [
    "def squares(end):\n",
    "    \"\"\"\n",
    "    Returns the squares of 0 up to (not including) the given end.\n",
    "    >>> squares(3)\n",
    "    [0, 1, 4]\n",
    "    \"\"\"\n",
    "    out = []\n",
    "    for i in range(end):\n",
    "        out.append(i * i)\n",
    "    return out"
   ]
  },
  {
   "cell_type": "code",
   "execution_count": null,
   "metadata": {},
   "outputs": [],
   "source": [
    "squares(3)"
   ]
  },
  {
   "cell_type": "markdown",
   "metadata": {},
   "source": [
    "This is a common pattern:\n",
    "\n",
    " 1. Create empty list\n",
    " 2. Append items in loop\n",
    " 3. Return final list"
   ]
  },
  {
   "cell_type": "markdown",
   "metadata": {
    "slideshow": {
     "slide_type": "slide"
    }
   },
   "source": [
    "## Problematic when dealing with huge lists"
   ]
  },
  {
   "cell_type": "code",
   "execution_count": null,
   "metadata": {},
   "outputs": [],
   "source": [
    "small_list = squares(10)  # Returns list of 10 items\n",
    "sum(small_list)"
   ]
  },
  {
   "cell_type": "code",
   "execution_count": null,
   "metadata": {},
   "outputs": [],
   "source": [
    "large_list = squares(1000_000)  # Returns a list with 1 million items\n",
    "                                # Calling it with 1 billion exhausts my computer's memory\n",
    "sum(large_list)"
   ]
  },
  {
   "cell_type": "markdown",
   "metadata": {},
   "source": [
    "In this example\n",
    " - Don't need random access to items: `large_list[100]`\n",
    " - Need only to iterate over list once"
   ]
  },
  {
   "cell_type": "markdown",
   "metadata": {
    "slideshow": {
     "slide_type": "slide"
    }
   },
   "source": [
    "# Solution: Generators"
   ]
  },
  {
   "cell_type": "code",
   "execution_count": null,
   "metadata": {},
   "outputs": [],
   "source": [
    "def squares(end):\n",
    "    \"\"\"\n",
    "    Returns the squares of 0 up to (not including) the given end.\n",
    "    >>> squares(3)\n",
    "    [0, 1, 4]\n",
    "    \"\"\"\n",
    "    # Old implemenation:\n",
    "    # out = []\n",
    "    # for i in range(end):\n",
    "    #    out.append(i * i)\n",
    "    # return out\n",
    "    for i in range(end):\n",
    "        yield i * i  # yield one item at a time"
   ]
  },
  {
   "cell_type": "code",
   "execution_count": null,
   "metadata": {},
   "outputs": [],
   "source": [
    "squares(3)"
   ]
  },
  {
   "cell_type": "code",
   "execution_count": null,
   "metadata": {},
   "outputs": [],
   "source": [
    "list(squares(3))"
   ]
  },
  {
   "cell_type": "code",
   "execution_count": null,
   "metadata": {},
   "outputs": [],
   "source": [
    "sum(squares(1000_000))  # Computes one item at a time\n",
    "# Works even with 1 billion, takes ~2min"
   ]
  },
  {
   "cell_type": "markdown",
   "metadata": {
    "slideshow": {
     "slide_type": "slide"
    }
   },
   "source": [
    "## Exercise: Write a generator for an binary sequence"
   ]
  },
  {
   "cell_type": "markdown",
   "metadata": {},
   "source": [
    "The method should take a `limit` parameter. Each item in the squence is the product of the previous value and `2`: $a_n = 2 \\cdot a_{n-1}$. The sequence should stop when the `limit` is reached."
   ]
  },
  {
   "cell_type": "code",
   "execution_count": null,
   "metadata": {},
   "outputs": [],
   "source": [
    "from solutions import exp_seq\n",
    "list(exp_seq(10))"
   ]
  },
  {
   "cell_type": "code",
   "execution_count": null,
   "metadata": {},
   "outputs": [],
   "source": [
    "sum(exp_seq(10))"
   ]
  },
  {
   "cell_type": "code",
   "execution_count": null,
   "metadata": {},
   "outputs": [],
   "source": [
    "sum(exp_seq(1000_1000))"
   ]
  },
  {
   "cell_type": "markdown",
   "metadata": {
    "slideshow": {
     "slide_type": "slide"
    }
   },
   "source": [
    "# Debugger PDB\n",
    "Your program crashs or doesn't do what it should?\n",
    "\n",
    "Debugging can be challenging\n",
    "<img src=\"material/debugging.png\" style=\"width: 80%; height: auto\" />"
   ]
  },
  {
   "cell_type": "markdown",
   "metadata": {
    "slideshow": {
     "slide_type": "slide"
    }
   },
   "source": [
    "## Example"
   ]
  },
  {
   "cell_type": "code",
   "execution_count": null,
   "metadata": {},
   "outputs": [],
   "source": [
    "from myproject import read_config, compute_all_results\n",
    "\n",
    "config = read_config()\n",
    "# ...\n",
    "results = compute_all_results(config)  # lengthy computation\n",
    "# ...\n",
    "for result in results:\n",
    "    if result == \"tt\":\n",
    "        print(\"We have the answer!\")\n",
    "        break\n",
    "else:\n",
    "    print(\"This should not happen.\")"
   ]
  },
  {
   "cell_type": "markdown",
   "metadata": {
    "slideshow": {
     "slide_type": "slide"
    }
   },
   "source": [
    "### Debugging with `print()`\n",
    "Add single print, rerun **whole** program"
   ]
  },
  {
   "cell_type": "code",
   "execution_count": null,
   "metadata": {},
   "outputs": [],
   "source": [
    "config = read_config()\n",
    "# ...\n",
    "results = compute_all_results(config)  # lengthy computation\n",
    "# ...\n",
    "print(results)  # Inspect the list of results\n",
    "for result in results:\n",
    "    if result == \"tt\":\n",
    "        print(\"We have the answer!\")\n",
    "        break\n",
    "else:\n",
    "    print(\"This should not happen.\")"
   ]
  },
  {
   "cell_type": "markdown",
   "metadata": {},
   "source": [
    "- `tt` in results\n",
    "- Why not detected in loop?"
   ]
  },
  {
   "cell_type": "markdown",
   "metadata": {
    "slideshow": {
     "slide_type": "slide"
    }
   },
   "source": [
    "### Debugging with `print()`\n",
    "Add another print, rerun **whole** program **again**"
   ]
  },
  {
   "cell_type": "code",
   "execution_count": null,
   "metadata": {},
   "outputs": [],
   "source": [
    "config = read_config()\n",
    "# ...\n",
    "results = compute_all_results(config)  # lengthy computation\n",
    "# ...\n",
    "print(results)  # Inspect the list of results\n",
    "for result in results:\n",
    "    print(result)\n",
    "    if result == \"tt\":\n",
    "        print(\"We have the answer!\")\n",
    "        break\n",
    "else:\n",
    "    print(\"This should not happen.\")"
   ]
  },
  {
   "cell_type": "markdown",
   "metadata": {
    "slideshow": {
     "slide_type": "slide"
    }
   },
   "source": [
    "### Better: Using debugger\n",
    "Insert `breakpoint()` (or `import pdb; pdb.set_trace()` before Python 3.7) and rerun whole program"
   ]
  },
  {
   "cell_type": "code",
   "execution_count": null,
   "metadata": {
    "slideshow": {
     "slide_type": "-"
    }
   },
   "outputs": [],
   "source": [
    "config = read_config()\n",
    "# ...\n",
    "results = compute_all_results(config)  # lengthy computation\n",
    "# ...\n",
    "import pdb; pdb.set_trace()  # This works also before 3.7\n",
    "for result in results:\n",
    "    if result == \"tt\":\n",
    "        print(\"We have the answer!\")\n",
    "        break\n",
    "else:\n",
    "    print(\"This should not happen.\")"
   ]
  },
  {
   "cell_type": "markdown",
   "metadata": {
    "slideshow": {
     "slide_type": "slide"
    }
   },
   "source": [
    "### Better: Using debugger\n",
    " - Trigger debugger\n",
    "   - Add `breakpoint()` or `import pdb; pdb.set_trace()`\n",
    "   - Run `python -m pdb your_program.py`\n",
    " - Command summary\n",
    "   - `b [FILE:]LINE` adds a new **b**earkpoint\n",
    "   - `c` **c**ontinue to next breakpoint\n",
    "   - `n` run **n**ext statement\n",
    "   - `s` **s**tep into method call\n",
    "   - `u` move one level up (reverts `s`)\n",
    "   - `cl [N]` clear breakpoints or breakpoint `N`\n",
    "   - `q` **q**uit\n",
    "   - `h` **h**elp"
   ]
  },
  {
   "cell_type": "markdown",
   "metadata": {
    "slideshow": {
     "slide_type": "slide"
    }
   },
   "source": [
    "## Exercise:\n",
    "Investigate the example below (or online http://cern.ch/go/sb8r):"
   ]
  },
  {
   "cell_type": "code",
   "execution_count": null,
   "metadata": {},
   "outputs": [],
   "source": [
    "cities = set([\"London\", \"Paris\", \"Bern\"])  # Unordered collection\n",
    "\n",
    "def get_new_cities():\n",
    "    new_cities = []\n",
    "    new_cities.append(\"Oslo\")\n",
    "    new_cities.append(\"Praque\")\n",
    "    return set(new_cities)\n",
    "\n",
    "cities.union(get_new_cities())\n",
    "\n",
    "print(cities)  # Does not include Oslo, Praque!"
   ]
  },
  {
   "cell_type": "markdown",
   "metadata": {
    "slideshow": {
     "slide_type": "slide"
    }
   },
   "source": [
    "# Linter\n",
    "\n",
    "Scans the code to flag\n",
    " - Programming errors\n",
    " - Suspicious constructs (\"Code that smells\")\n",
    " - Stylistic errors (Enforces common style within a team)\n",
    " \n",
    "Several options for Python\n",
    " - Pylint\n",
    " - Flake8\n",
    " - ..."
   ]
  },
  {
   "cell_type": "markdown",
   "metadata": {
    "slideshow": {
     "slide_type": "slide"
    }
   },
   "source": [
    "## Linter Example\n",
    "\n",
    "Take the code from the previous exercise.\n",
    "```python\n",
    "# debug_exercise.py\n",
    "cities = set([\"London\", \"Paris\", \"Bern\"])  # Unordered collection\n",
    "\n",
    "def get_new_cities():\n",
    "    new_cities = []\n",
    "    new_cities.append(\"Oslo\")\n",
    "    new_cities.append(\"Praque\")\n",
    "    return set(new_cities)\n",
    "\n",
    "cities.union(get_new_cities())\n",
    "\n",
    "print(cities)  # Does not include Oslo, Praque!\n",
    "```"
   ]
  },
  {
   "cell_type": "markdown",
   "metadata": {
    "slideshow": {
     "slide_type": "slide"
    }
   },
   "source": [
    "## Linter Example\n",
    "\n",
    "```console\n",
    "$ python -m pylint debug_exercise.py\n",
    "************* Module debug_exercise\n",
    "C:  1, 0: Missing module docstring (missing-docstring)\n",
    "C:  1, 0: Constant name \"cities\" doesn't conform to UPPER_CASE naming style (invalid-name)\n",
    "C:  3, 0: Missing function docstring (missing-docstring)\n",
    "\n",
    "------------------------------------------------------------------\n",
    "Your code has been rated at 6.25/10 (previous run: 6.25/10, +0.00)\n",
    "```\n",
    " - `cities` a constant?\n",
    " - Would have spotted the mistake already here\n"
   ]
  },
  {
   "cell_type": "markdown",
   "metadata": {
    "slideshow": {
     "slide_type": "slide"
    }
   },
   "source": [
    "# Command-line Options -  [`argparse`](https://docs.python.org/3/library/argparse.html#module-argparse)\n",
    "\n",
    "Command-line parsing module in the Python standard library\n"
   ]
  },
  {
   "cell_type": "code",
   "execution_count": null,
   "metadata": {
    "slideshow": {
     "slide_type": "fragment"
    }
   },
   "outputs": [],
   "source": [
    "from argparse import ArgumentParser"
   ]
  },
  {
   "cell_type": "code",
   "execution_count": null,
   "metadata": {
    "slideshow": {
     "slide_type": "fragment"
    }
   },
   "outputs": [],
   "source": [
    "parser = ArgumentParser()"
   ]
  },
  {
   "cell_type": "code",
   "execution_count": null,
   "metadata": {
    "slideshow": {
     "slide_type": "fragment"
    }
   },
   "outputs": [],
   "source": [
    "parser.add_argument(\"number\", type=float) # positional argument with type float"
   ]
  },
  {
   "cell_type": "code",
   "execution_count": null,
   "metadata": {
    "slideshow": {
     "slide_type": "fragment"
    }
   },
   "outputs": [],
   "source": [
    "parser.add_argument('-e', '--exponent', default=2, type=int) # option with default value and int type"
   ]
  },
  {
   "cell_type": "code",
   "execution_count": null,
   "metadata": {
    "slideshow": {
     "slide_type": "fragment"
    }
   },
   "outputs": [],
   "source": [
    "parser.add_argument(\"-v\", \"--verbose\", help=\"increase output verbosity\",\n",
    "                    action=\"store_true\") # true/false option with help message "
   ]
  },
  {
   "cell_type": "markdown",
   "metadata": {
    "slideshow": {
     "slide_type": "subslide"
    }
   },
   "source": [
    "# Command-line Options -  [`argparse`](https://docs.python.org/3/library/argparse.html#module-argparse)\n"
   ]
  },
  {
   "cell_type": "code",
   "execution_count": null,
   "metadata": {
    "slideshow": {
     "slide_type": "-"
    }
   },
   "outputs": [],
   "source": [
    "%%writefile argparse_test.py\n",
    "from argparse import ArgumentParser\n",
    "\n",
    "parser = ArgumentParser()\n",
    "parser.add_argument(\"number\", type=float) # positional argument with type float\n",
    "\n",
    "parser.add_argument('-e', '--exponent', default=2, type=int) # option with default value and int type\n",
    "\n",
    "parser.add_argument(\"-v\", \"--verbose\", help=\"increase output verbosity\",\n",
    "                    action=\"store_true\") # true/false option with help message \n",
    "args = parser.parse_args()\n",
    "\n",
    "if args.verbose is True:\n",
    "    print(f\"{args.number}^{args.exponent} =\", args.number ** args.exponent)\n",
    "else:\n",
    "    print(args.number ** args.exponent)"
   ]
  },
  {
   "cell_type": "code",
   "execution_count": null,
   "metadata": {
    "slideshow": {
     "slide_type": "fragment"
    }
   },
   "outputs": [],
   "source": [
    "!python argparse_test.py -h"
   ]
  },
  {
   "cell_type": "markdown",
   "metadata": {
    "slideshow": {
     "slide_type": "subslide"
    }
   },
   "source": [
    "# Command-line Options -  [`argparse`](https://docs.python.org/3/library/argparse.html#module-argparse)\n"
   ]
  },
  {
   "cell_type": "markdown",
   "metadata": {
    "slideshow": {
     "slide_type": "-"
    }
   },
   "source": [
    "\n",
    "Alternatives:\n",
    "\n",
    "* [`click`](http://click.pocoo.org/6/)\n",
    "* [`docopt`](http://docopt.org/)"
   ]
  },
  {
   "cell_type": "markdown",
   "metadata": {
    "slideshow": {
     "slide_type": "subslide"
    }
   },
   "source": [
    "## Exercise: Hello World Argparse"
   ]
  },
  {
   "cell_type": "markdown",
   "metadata": {
    "slideshow": {
     "slide_type": "fragment"
    }
   },
   "source": [
    "Write a python script `hello_world.py` with a language option (de, en, fr, etc.) and the name.\n",
    "\n",
    "The default should be language=en and name=World\n",
    "\n",
    "which should return e.g.\n",
    "```\n",
    "python hello_world.py -l de --name Bert\n",
    ">> Hallo Bert\n",
    "```\n",
    "\n",
    "```\n",
    "python hello_world.py \n",
    ">> Hello World\n",
    "```"
   ]
  },
  {
   "cell_type": "markdown",
   "metadata": {
    "slideshow": {
     "slide_type": "subslide"
    }
   },
   "source": [
    "## Solution: Hello World Argparse"
   ]
  },
  {
   "cell_type": "code",
   "execution_count": null,
   "metadata": {
    "slideshow": {
     "slide_type": "fragment"
    }
   },
   "outputs": [],
   "source": [
    "%%writefile argparse_exercise.py\n",
    "from argparse import ArgumentParser\n",
    "\n",
    "greetings = {\"en\": \"Hello\", \"de\": \"Hallo\", \"fr\": \"Salut\", \"it\": \"Buongiorno\"}\n",
    "\n",
    "parser = ArgumentParser()\n",
    "parser.add_argument('-l', '--language', default=\"en\", type=str, choices=list(greetings.keys())) \n",
    "parser.add_argument(\"-n\", \"--name\", default=\"World\", type=str)\n",
    "args = parser.parse_args()\n",
    "\n",
    "print(greetings[args.language], args.name)\n"
   ]
  },
  {
   "cell_type": "code",
   "execution_count": null,
   "metadata": {
    "slideshow": {
     "slide_type": "slide"
    }
   },
   "outputs": [],
   "source": [
    "!python argparse_exercise.py -l it -n Bert"
   ]
  },
  {
   "cell_type": "markdown",
   "metadata": {
    "slideshow": {
     "slide_type": "slide"
    }
   },
   "source": [
    "# Packaging\n",
    " - Split larger projects into modules and packages\n",
    " - `setuptools`/`disttools` allows to combine packages, scripts and metadata\n",
    " - Easily shared with other people\n",
    " - **Task: Build package from the `hello_world.py` example and share it with other people**"
   ]
  },
  {
   "cell_type": "markdown",
   "metadata": {
    "slideshow": {
     "slide_type": "slide"
    }
   },
   "source": [
    "## Terminology\n",
    "**Module**\n",
    " - Single `.py` file\n",
    " - Usable via `import FILE_NAME` from file in same directory\n",
    "  (directory has to be in `sys.path`)\n",
    "\n",
    "**Package**\n",
    " - Method to structure Python namepsace (e.g. `os.path.join`)\n",
    " - Created with `PACKAGE_NAME/__init__.py` file\n",
    " - `__init__.py` could be empty\n",
    " - Package directory can host modules and packages\n",
    " - Usable via `import PACKAGE_NAME` from parent directory\n",
    "  (directory has to be in `sys.path`)"
   ]
  },
  {
   "cell_type": "markdown",
   "metadata": {
    "slideshow": {
     "slide_type": "slide"
    }
   },
   "source": [
    "## Packaging: 1. Create package\n",
    "\n",
    "We will call the package `hellolib` Create the file `hellolib/__init__.py`. *Reuse the code from the previous exercise.*"
   ]
  },
  {
   "cell_type": "code",
   "execution_count": null,
   "metadata": {
    "slideshow": {
     "slide_type": "-"
    }
   },
   "outputs": [],
   "source": [
    "%%writefile hellolib/__init__.py\n",
    "\"\"\"\n",
    "The Python module hellolib/__init__.py hosts a method to greet the world.\n",
    "\"\"\"\n",
    "\n",
    "def print_greeting(greeting, name):\n",
    "    \"\"\"\n",
    "    Prints the custom greeting. \n",
    "    \"\"\"\n",
    "    print(\"%s %s!\" % (greeting, name))"
   ]
  },
  {
   "cell_type": "markdown",
   "metadata": {
    "slideshow": {
     "slide_type": "-"
    }
   },
   "source": [
    "Method available via"
   ]
  },
  {
   "cell_type": "code",
   "execution_count": null,
   "metadata": {
    "slideshow": {
     "slide_type": "-"
    }
   },
   "outputs": [],
   "source": [
    "import hellolib\n",
    "hellolib.print_greeting(\"Bonjour\", \"Ernie\")"
   ]
  },
  {
   "cell_type": "markdown",
   "metadata": {
    "slideshow": {
     "slide_type": "slide"
    }
   },
   "source": [
    "## Packaging: 2. Add command line tool\n",
    "\n",
    "We want to include the command-line tool with argparse. Create `scripts/hello_world`.\n",
    "\n",
    "*Reuse the code from the previous exercise.*"
   ]
  },
  {
   "cell_type": "code",
   "execution_count": null,
   "metadata": {},
   "outputs": [],
   "source": [
    "%%writefile scripts/hello_world\n",
    "#! /usr/bin/env python3\n",
    "# Change path for windows\n",
    "\n",
    "import argparse\n",
    "from hellolib import print_greeting\n",
    "\n",
    "greetings = {\"en\": \"Hello\", \"de\": \"Hallo\", \"fr\": \"Salut\", \"it\": \"Buongiorno\"}\n",
    "\n",
    "parser = argparse.ArgumentParser()\n",
    "parser.add_argument(\"-n\", \"--name\", default=\"World\")\n",
    "parser.add_argument(\"-l\", \"--lang\", choices=greetings)\n",
    "args = parser.parse_args()\n",
    "    \n",
    "print_greeting(greetings[args.lang], args.name)\t"
   ]
  },
  {
   "cell_type": "markdown",
   "metadata": {
    "slideshow": {
     "slide_type": "slide"
    }
   },
   "source": [
    "## Packaging: 3. Add metadata with setuptools\n",
    "\n",
    "Create a `setup.py` alongside the directories `scripts/` and `hellolib/`."
   ]
  },
  {
   "cell_type": "code",
   "execution_count": null,
   "metadata": {},
   "outputs": [],
   "source": [
    "%%writefile setup.py\n",
    "from setuptools import setup, find_packages\n",
    "setup(\n",
    "    name=\"hellolib\",\n",
    "    version=\"0.0.1\",\n",
    "    packages=find_packages(),\n",
    "    scripts=['scripts/hello_world'],\n",
    "    install_requires=[],  # We don't have any dependencies\n",
    "    author=\"Me\",\n",
    "    author_email=\"me@example.com\",\n",
    "    # Much more: https://setuptools.readthedocs.io/\n",
    ")"
   ]
  },
  {
   "cell_type": "markdown",
   "metadata": {
    "slideshow": {
     "slide_type": "slide"
    }
   },
   "source": [
    "## Packaging: 4. Install or share\n",
    "\n",
    " - Run `python3 setup.py install` to copy files\n",
    "   - `import hellolib` from any directory\n",
    "   - Run `hello_world` command in any directory\n",
    " - Run `python3 setup.py develop` to link instead of copy\n",
    "   - Changes are propagated on your system\n",
    "\n",
    " - Share the directory with others: Email/Download zip, Git repository\n",
    " - Use `twine` to publish your package on `pypi.org`"
   ]
  },
  {
   "cell_type": "markdown",
   "metadata": {
    "slideshow": {
     "slide_type": "slide"
    }
   },
   "source": [
    "# What NOT to do\n",
    "\n",
    "\n",
    "### Thinks you should avoid with python"
   ]
  },
  {
   "cell_type": "markdown",
   "metadata": {
    "slideshow": {
     "slide_type": "subslide"
    }
   },
   "source": [
    "### Misusing default arguments in functions\n",
    "you can define default values in a function"
   ]
  },
  {
   "cell_type": "code",
   "execution_count": null,
   "metadata": {
    "slideshow": {
     "slide_type": "fragment"
    }
   },
   "outputs": [],
   "source": [
    "def grk_append(grk_list=[]):  # grk_list is optional with the default value []\n",
    "    grk_list.append(\"grk\") # this line can cause problems!\n",
    "    return grk_list"
   ]
  },
  {
   "cell_type": "code",
   "execution_count": null,
   "metadata": {
    "slideshow": {
     "slide_type": "fragment"
    }
   },
   "outputs": [],
   "source": [
    "grk_append() "
   ]
  },
  {
   "cell_type": "markdown",
   "metadata": {
    "slideshow": {
     "slide_type": "fragment"
    }
   },
   "source": [
    "Possible way out of it"
   ]
  },
  {
   "cell_type": "code",
   "execution_count": null,
   "metadata": {
    "slideshow": {
     "slide_type": "-"
    }
   },
   "outputs": [],
   "source": [
    "def grk_append(grk_list=None):  # setting default value to None\n",
    "    if grk_list is None:\n",
    "        grk_list = []\n",
    "    grk_list.append(\"grk\")\n",
    "    return grk_list"
   ]
  },
  {
   "cell_type": "code",
   "execution_count": null,
   "metadata": {
    "slideshow": {
     "slide_type": "fragment"
    }
   },
   "outputs": [],
   "source": [
    "grk_append()"
   ]
  },
  {
   "cell_type": "markdown",
   "metadata": {
    "slideshow": {
     "slide_type": "subslide"
    }
   },
   "source": [
    "### Import Mistakes\n",
    "\n",
    "#### Wildcard Import"
   ]
  },
  {
   "cell_type": "code",
   "execution_count": null,
   "metadata": {
    "slideshow": {
     "slide_type": "fragment"
    }
   },
   "outputs": [],
   "source": [
    "from numpy import *"
   ]
  },
  {
   "cell_type": "markdown",
   "metadata": {},
   "source": [
    "* Can cause name clashing\n",
    "* Unnecessary import of unneeded functionalities"
   ]
  },
  {
   "cell_type": "markdown",
   "metadata": {
    "slideshow": {
     "slide_type": "fragment"
    }
   },
   "source": [
    "with python 3 e.g. ROOT does not allow wildcard import anymore\n",
    "```\n",
    "from ROOT import *\n",
    "```"
   ]
  },
  {
   "cell_type": "markdown",
   "metadata": {
    "slideshow": {
     "slide_type": "subslide"
    }
   },
   "source": [
    "### Import Mistakes\n",
    "#### Name conflicts with other libraries"
   ]
  },
  {
   "cell_type": "markdown",
   "metadata": {
    "slideshow": {
     "slide_type": "fragment"
    }
   },
   "source": [
    "email is a python standard library\n",
    "```\n",
    "from email.message import EmailMessage\n",
    "```"
   ]
  },
  {
   "cell_type": "markdown",
   "metadata": {
    "slideshow": {
     "slide_type": "fragment"
    }
   },
   "source": [
    "```\n",
    "%%writefile email.py\n",
    "def GetMail():\n",
    "    return \"grk@physik.uni-freiburg.de\"\n",
    "```"
   ]
  },
  {
   "cell_type": "markdown",
   "metadata": {
    "slideshow": {
     "slide_type": "fragment"
    }
   },
   "source": [
    "```\n",
    "import email\n",
    "email.GetMail()\n",
    "```"
   ]
  },
  {
   "cell_type": "code",
   "execution_count": null,
   "metadata": {
    "slideshow": {
     "slide_type": "subslide"
    }
   },
   "outputs": [],
   "source": []
  }
 ],
 "metadata": {
  "celltoolbar": "Slideshow",
  "kernelspec": {
   "display_name": "Python 3",
   "language": "python",
   "name": "python3"
  },
  "language_info": {
   "codemirror_mode": {
    "name": "ipython",
    "version": 3
   },
   "file_extension": ".py",
   "mimetype": "text/x-python",
   "name": "python",
   "nbconvert_exporter": "python",
   "pygments_lexer": "ipython3",
   "version": "3.7.4"
  },
  "rise": {
   "theme": "serif"
  }
 },
 "nbformat": 4,
 "nbformat_minor": 2
}
