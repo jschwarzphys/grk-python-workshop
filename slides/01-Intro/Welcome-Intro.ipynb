{
 "cells": [
  {
   "cell_type": "markdown",
   "metadata": {
    "slideshow": {
     "slide_type": "slide"
    }
   },
   "source": [
    "# Welcome and Technical Setup \n",
    "\n",
    "### GRK Python Workshop, 14.10.2019\n",
    "\n",
    "### Frank Sauerburger, Manuel Guth"
   ]
  },
  {
   "cell_type": "markdown",
   "metadata": {
    "slideshow": {
     "slide_type": "slide"
    }
   },
   "source": [
    "# Welcome to the GRK Python Workshop\n",
    "<img style=\"float: right; width: 30%\" src=\"material/Registration-chart.png\" />\n",
    "\n",
    "* 46 registrations \n",
    "\n",
    "\n",
    "* All lectures and tutorials will take place in HS1 (highrise)\n",
    "* We always start at 10 s.t. (to not collide with FP)\n",
    "* Lunch breaks from 12h30 to 14h00\n",
    "\n",
    "Indico page: https://indico.cern.ch/event/846501/\n",
    "\n",
    "All updates slides etc. will be posted there\n",
    "\n"
   ]
  },
  {
   "cell_type": "markdown",
   "metadata": {
    "slideshow": {
     "slide_type": "slide"
    }
   },
   "source": [
    "# Timetable for the 3 Days Workshop\n",
    "<img style=\"float: centre; width: 100%\" src=\"material/Timetable-Workshop.png\" />"
   ]
  },
  {
   "cell_type": "markdown",
   "metadata": {
    "slideshow": {
     "slide_type": "slide"
    }
   },
   "source": [
    "# Speakers\n",
    "\n",
    "\n",
    "<div style=\"display: flex\">\n",
    "    <div style=\"padding: 1em;flex: 1;\">\n",
    "        <img style=\"width: 10em; height: auto; margin: 0px auto;\" src=\"material/thiemann.jpg\" />\n",
    "        <b>Prof. Dr. Thiemann<br/>Uni Freiburg</b><br />\n",
    "        <ul>\n",
    "            <li>Testing</li>\n",
    "            <li>Continuous Integration</li>\n",
    "            <li>Git(Hub)</li>\n",
    "        </ul>\n",
    "    </div>\n",
    "    <div style=\"padding: 1em;flex: 1;\">\n",
    "        <img style=\"width: 10em; height: auto; margin: 0px auto;\" src=\"material/max.jpeg\" />\n",
    "        <b>Maximilian Nöthe<br/>TU Dortmund</b><br />\n",
    "        <ul>\n",
    "            <li>Scientific Programming</li>\n",
    "            <li>Numpy</li>\n",
    "            <li>Matplotlib</li>\n",
    "            <li>Scipy</li>\n",
    "        </ul>\n",
    "    </div>\n",
    "    <div style=\"padding: 1em;flex: 1;\">\n",
    "        <img style=\"width: 10em; height: auto; margin: 0px auto;\" src=\"material/lukas.jpeg\" />\n",
    "        <b>Lukas Heinrich<br/>CERN</b><br />\n",
    "        <ul>\n",
    "            <li>Symbolic programming</li>\n",
    "            <li>Autodifferentiation</li>\n",
    "            <li>Cython/Numba</li>\n",
    "            <li>MPI</li>\n",
    "        </ul>\n",
    "    </div>\n",
    "</div>"
   ]
  },
  {
   "cell_type": "markdown",
   "metadata": {
    "slideshow": {
     "slide_type": "slide"
    }
   },
   "source": [
    "# Social event\n",
    "\n",
    "<img src=\"material/goldener_sternen.png\" style=\"float: right; width: 10em; margin: 2em\" />\n",
    "\n",
    " - Common dinner\n",
    " - Tuesday, 15. Oct, 18:45\n",
    " - Goldender Sternen, Emmendinger Str. 1\n",
    " - Need headcount for reservation"
   ]
  },
  {
   "cell_type": "markdown",
   "metadata": {
    "slideshow": {
     "slide_type": "slide"
    }
   },
   "source": [
    "# Technical Setup"
   ]
  },
  {
   "cell_type": "markdown",
   "metadata": {},
   "source": [
    "## Gitlab page\n",
    "All the code will be posted also on this gitlab page: https://gitlab.cern.ch/fsauerbu/grk-python-workshop"
   ]
  },
  {
   "cell_type": "markdown",
   "metadata": {},
   "source": [
    "You can checkout the repository via\n",
    "```\n",
    "git clone --recursive https://gitlab.cern.ch/fsauerbu/grk-python-workshop.git\n",
    "```"
   ]
  },
  {
   "cell_type": "markdown",
   "metadata": {
    "slideshow": {
     "slide_type": "fragment"
    }
   },
   "source": [
    "The [README.md](https://gitlab.cern.ch/fsauerbu/grk-python-workshop/blob/slides-preparation/README.md) provides some setup tips"
   ]
  },
  {
   "cell_type": "markdown",
   "metadata": {
    "slideshow": {
     "slide_type": "subslide"
    }
   },
   "source": [
    "# Technical Setup"
   ]
  },
  {
   "cell_type": "markdown",
   "metadata": {},
   "source": [
    "#### We will use Python 3.7 for the tutorial\n",
    "\n",
    "3 Different ways for the setup\n",
    "\n",
    "- via Docker \n",
    "- via Virtual Machine\n",
    "- via manual installation with requirements file\n",
    "\n",
    "We hope you all managed to have a running setup as distributed by Mail"
   ]
  },
  {
   "cell_type": "markdown",
   "metadata": {
    "slideshow": {
     "slide_type": "fragment"
    }
   },
   "source": [
    "### Testing your setup\n",
    "Script to test your setup is available [here](https://gitlab.cern.ch/fsauerbu/grk-python-workshop/blob/master/setup_test.py)\n",
    "\n",
    "#### Please NOW everyone run this script to test the setup"
   ]
  },
  {
   "cell_type": "markdown",
   "metadata": {
    "slideshow": {
     "slide_type": "fragment"
    }
   },
   "source": [
    "### Who has NO working setup?"
   ]
  },
  {
   "cell_type": "markdown",
   "metadata": {
    "slideshow": {
     "slide_type": "subslide"
    }
   },
   "source": [
    "### Docker\n",
    "The easiest way to run the code for the workshop is using a docker image via\n",
    "```\n",
    "docker run -it -p 8881:8881  grk2044/base-python:latest bash\n",
    "```\n",
    "if you want to make the current folder accessible within the image you need to mount it via `-v $(pwd):<path-to-folder>`\n",
    "\n",
    "To run a Jupyter Notebook within the Docker image, use the following command:\n",
    "\n",
    "```\n",
    "jupyter notebook --ip 0.0.0.0 --no-browser --port 8881\n",
    "```"
   ]
  },
  {
   "cell_type": "markdown",
   "metadata": {
    "slideshow": {
     "slide_type": "subslide"
    }
   },
   "source": [
    "### Virtual Machine \n",
    "\n",
    "The virtual machine can be downloaded via this link http://go.web.cern.ch/go/8Z8J\n",
    "\n",
    "Easy way to run the VM is with [Virtual Box](https://www.virtualbox.org)"
   ]
  },
  {
   "cell_type": "markdown",
   "metadata": {},
   "source": [
    "## Emergency Kits\n",
    "\n",
    "* We have some guest account for Nemo where one can use singularity\n",
    "* If nothing works, we have 2 laptops with the setup "
   ]
  },
  {
   "cell_type": "code",
   "execution_count": null,
   "metadata": {},
   "outputs": [],
   "source": []
  }
 ],
 "metadata": {
  "celltoolbar": "Slideshow",
  "kernelspec": {
   "display_name": "Python 3",
   "language": "python",
   "name": "python3"
  },
  "language_info": {
   "codemirror_mode": {
    "name": "ipython",
    "version": 3
   },
   "file_extension": ".py",
   "mimetype": "text/x-python",
   "name": "python",
   "nbconvert_exporter": "python",
   "pygments_lexer": "ipython3",
   "version": "3.7.4"
  }
 },
 "nbformat": 4,
 "nbformat_minor": 2
}
