{
 "cells": [
  {
   "cell_type": "markdown",
   "metadata": {
    "slideshow": {
     "slide_type": "slide"
    }
   },
   "source": [
    "# Welcome and Technical Setup \n",
    "\n",
    "### GRK Python Workshop, 14.10.2019\n",
    "\n",
    "### Frank Sauerburger, Manuel Guth"
   ]
  },
  {
   "cell_type": "markdown",
   "metadata": {
    "slideshow": {
     "slide_type": "slide"
    }
   },
   "source": [
    "# Welcome to the GRK Python Workshop\n",
    "<img style=\"float: right; width: 30%\" src=\"Registration-chart.png\" />\n",
    "\n",
    "* 45 registrations \n",
    "\n",
    "\n",
    "* All lectures and tutorials will take place in HS1 (highrise)\n",
    "* We always start at 10 s.t. (to not collide with FP)\n",
    "* Lunch breaks from 12h30 to 14h00\n",
    "\n"
   ]
  },
  {
   "cell_type": "markdown",
   "metadata": {
    "slideshow": {
     "slide_type": "slide"
    }
   },
   "source": [
    "# Timetable for the 3 Days Workshop\n",
    "<img style=\"float: centre; width: 100%\" src=\"Timetable-Workshop.png\" />"
   ]
  },
  {
   "cell_type": "markdown",
   "metadata": {
    "slideshow": {
     "slide_type": "slide"
    }
   },
   "source": [
    "# Speakers\n",
    "\n",
    "\n",
    "<div style=\"display: flex\">\n",
    "    <div style=\"padding: 1em;flex: 1;\">\n",
    "        <img style=\"width: 10em; height: auto; margin: 0px auto;\" src=\"thiemann.jpg\" />\n",
    "        <b>Prof. Dr. Thiemann<br/>Uni Freiburg</b><br />\n",
    "        <ul>\n",
    "            <li>Testing</li>\n",
    "            <li>Continous Integration</li>\n",
    "            <li>Git(Hub)</li>\n",
    "        </ul>\n",
    "    </div>\n",
    "    <div style=\"padding: 1em;flex: 1;\">\n",
    "        <img style=\"width: 10em; height: auto; margin: 0px auto;\" src=\"max.jpeg\" />\n",
    "        <b>Maximilian Nöthe<br/>TU Dordmund</b><br />\n",
    "        <ul>\n",
    "            <li>Scientific Programming</li>\n",
    "            <li>Numpy</li>\n",
    "            <li>Matplotlib</li>\n",
    "            <li>Scipy</li>\n",
    "        </ul>\n",
    "    </div>\n",
    "    <div style=\"padding: 1em;flex: 1;\">\n",
    "        <img style=\"width: 10em; height: auto; margin: 0px auto;\" src=\"lukas.jpeg\" />\n",
    "        <b>Lukas Heinrich<br/>CERN</b><br />\n",
    "        <ul>\n",
    "            <li>Symbolic programming</li>\n",
    "            <li>Autodifferentiation</li>\n",
    "            <li>Cython/Numba</li>\n",
    "            <li>MPI</li>\n",
    "        </ul>\n",
    "    </div>\n",
    "</div>"
   ]
  },
  {
   "cell_type": "markdown",
   "metadata": {
    "slideshow": {
     "slide_type": "slide"
    }
   },
   "source": [
    "# Social event\n",
    "\n",
    "<img src=\"goldener_sternen.png\" style=\"float: right; width: 10em; margin: 2em\" />\n",
    "\n",
    " - Common dinner\n",
    " - Tuesday, 15. Oct, 18:45\n",
    " - Goldender Sternen, Emmendinger Str. 1\n",
    " - Need headcount for reserveration"
   ]
  },
  {
   "cell_type": "markdown",
   "metadata": {
    "slideshow": {
     "slide_type": "slide"
    }
   },
   "source": []
  },
  {
   "cell_type": "code",
   "execution_count": null,
   "metadata": {},
   "outputs": [],
   "source": [
    "import sys\n",
    "print(int(sys.version[2])>=7)"
   ]
  },
  {
   "cell_type": "code",
   "execution_count": null,
   "metadata": {},
   "outputs": [],
   "source": [
    "sys.version_info"
   ]
  },
  {
   "cell_type": "code",
   "execution_count": null,
   "metadata": {},
   "outputs": [],
   "source": []
  }
 ],
 "metadata": {
  "celltoolbar": "Slideshow",
  "kernelspec": {
   "display_name": "Python 3",
   "language": "python",
   "name": "python3"
  },
  "language_info": {
   "codemirror_mode": {
    "name": "ipython",
    "version": 3
   },
   "file_extension": ".py",
   "mimetype": "text/x-python",
   "name": "python",
   "nbconvert_exporter": "python",
   "pygments_lexer": "ipython3",
   "version": "3.7.4"
  }
 },
 "nbformat": 4,
 "nbformat_minor": 2
}
